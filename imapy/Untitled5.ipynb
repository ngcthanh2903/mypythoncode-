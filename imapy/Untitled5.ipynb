{
 "cells": [
  {
   "cell_type": "code",
   "execution_count": 2,
   "metadata": {},
   "outputs": [
    {
     "name": "stderr",
     "output_type": "stream",
     "text": [
      "\n",
      "\n"
     ]
    }
   ],
   "source": [
    "!curl -L -o ./haarcascade_frontalface_default.xml https://raw.githubusercontent.com/opencv/opencv/master/data/haarcascades/haarcascade_frontalface_default.xml\n",
    "# Đồng thời tải 1 file ảnh về để nhận diện khuôn mặt trên ảnh\n",
    "!curl -L -o ./face.jpg https://cdn.discordapp.com/attachments/600512391297368100/614667060974452737/21616200_1991642997721343_3922235463388397100_n.jpg"
   ]
  },
  {
   "cell_type": "code",
   "execution_count": 4,
   "metadata": {},
   "outputs": [],
   "source": [
    "import cv2 # Import thư viện OpenCV\n",
    "\n",
    "# Tạo bộ nhận diện khuôn mặt\n",
    "faceCascade = cv2.CascadeClassifier(\"haarcascade_frontalface_default.xml\")\n",
    "cap = cv2.VideoCapture(0)"
   ]
  },
  {
   "cell_type": "code",
   "execution_count": 3,
   "metadata": {},
   "outputs": [
    {
     "data": {
      "text/plain": [
       "-1"
      ]
     },
     "execution_count": 3,
     "metadata": {},
     "output_type": "execute_result"
    }
   ],
   "source": [
    "img = cv2.imread('oba.png') # Đọc hình với OpenCV\n",
    "\n",
    "img = cv2.resize(img, (480, 480)) # Thay đổi kích thước hình\n",
    "\n",
    "# Quá trình nhận diện sẽ được thực hiện trên ảnh xám (Đen/Trắng)\n",
    "grayImg = cv2.cvtColor(img, cv2.COLOR_BGR2GRAY) # Chuyển ảnh màu sang ảnh xám\n",
    "\n",
    "# Thực thi Face Detection\n",
    "faces = faceCascade.detectMultiScale(q\n",
    "    grayImg,\n",
    "    scaleFactor=1.1,\n",
    "    minNeighbors=5,\n",
    "    minSize=(30, 30)\n",
    ")\n",
    "\n",
    "# Vẽ một hình tứ giác xung quanh những khuôn mặt phát hiện được. Vẽ trên ảnh màu.\n",
    "for (x, y, w, h) in faces:\n",
    "    cv2.rectangle(img, (x, y), (x+w, y+h), (0, 255, 0), 2)\n",
    "\n",
    "cv2.imshow('Face Detection', img) # Hiển thị kết quả ra màn hình\n",
    "cv2.waitKey(0)"
   ]
  },
  {
   "cell_type": "code",
   "execution_count": 5,
   "metadata": {},
   "outputs": [
    {
     "name": "stdout",
     "output_type": "stream",
     "text": [
      "Tìm thấy 0 khuôn mặt!\n",
      "Tìm thấy 0 khuôn mặt!\n",
      "Tìm thấy 0 khuôn mặt!\n",
      "Tìm thấy 0 khuôn mặt!\n",
      "Tìm thấy 0 khuôn mặt!\n",
      "Tìm thấy 0 khuôn mặt!\n",
      "Tìm thấy 0 khuôn mặt!\n",
      "Tìm thấy 0 khuôn mặt!\n",
      "Tìm thấy 0 khuôn mặt!\n",
      "Tìm thấy 0 khuôn mặt!\n",
      "Tìm thấy 0 khuôn mặt!\n",
      "Tìm thấy 0 khuôn mặt!\n",
      "Tìm thấy 0 khuôn mặt!\n",
      "Tìm thấy 0 khuôn mặt!\n",
      "Tìm thấy 0 khuôn mặt!\n",
      "Tìm thấy 0 khuôn mặt!\n",
      "Tìm thấy 0 khuôn mặt!\n",
      "Tìm thấy 0 khuôn mặt!\n",
      "Tìm thấy 0 khuôn mặt!\n",
      "Tìm thấy 0 khuôn mặt!\n",
      "Tìm thấy 0 khuôn mặt!\n",
      "Tìm thấy 0 khuôn mặt!\n",
      "Tìm thấy 0 khuôn mặt!\n",
      "Tìm thấy 0 khuôn mặt!\n",
      "Tìm thấy 0 khuôn mặt!\n",
      "Tìm thấy 0 khuôn mặt!\n",
      "Tìm thấy 0 khuôn mặt!\n",
      "Tìm thấy 0 khuôn mặt!\n",
      "Tìm thấy 0 khuôn mặt!\n",
      "Tìm thấy 0 khuôn mặt!\n",
      "Tìm thấy 0 khuôn mặt!\n",
      "Tìm thấy 0 khuôn mặt!\n",
      "Tìm thấy 0 khuôn mặt!\n",
      "Tìm thấy 0 khuôn mặt!\n",
      "Tìm thấy 0 khuôn mặt!\n",
      "Tìm thấy 0 khuôn mặt!\n",
      "Tìm thấy 0 khuôn mặt!\n",
      "Tìm thấy 0 khuôn mặt!\n",
      "Tìm thấy 0 khuôn mặt!\n",
      "Tìm thấy 0 khuôn mặt!\n",
      "Tìm thấy 0 khuôn mặt!\n",
      "Tìm thấy 0 khuôn mặt!\n",
      "Tìm thấy 0 khuôn mặt!\n",
      "Tìm thấy 0 khuôn mặt!\n",
      "Tìm thấy 0 khuôn mặt!\n",
      "Tìm thấy 0 khuôn mặt!\n",
      "Tìm thấy 0 khuôn mặt!\n",
      "Tìm thấy 0 khuôn mặt!\n",
      "Tìm thấy 0 khuôn mặt!\n",
      "Tìm thấy 0 khuôn mặt!\n",
      "Tìm thấy 0 khuôn mặt!\n",
      "Tìm thấy 0 khuôn mặt!\n",
      "Tìm thấy 0 khuôn mặt!\n",
      "Tìm thấy 0 khuôn mặt!\n",
      "Tìm thấy 0 khuôn mặt!\n",
      "Tìm thấy 0 khuôn mặt!\n",
      "Tìm thấy 0 khuôn mặt!\n",
      "Tìm thấy 0 khuôn mặt!\n",
      "Tìm thấy 0 khuôn mặt!\n"
     ]
    }
   ],
   "source": [
    "cap = cv2.VideoCapture(0) # Truy cập vào thiết bị Camera\n",
    "\n",
    "while True:\n",
    "    # Chụp lại từng khung hình\n",
    "    ret, frame = cap.read()\n",
    "\n",
    "    # Quá trình nhận diện sẽ được thực hiện trên ảnh xám (Đen/Trắng)\n",
    "    gray = cv2.cvtColor(frame, cv2.COLOR_BGR2GRAY) # Chuyển ảnh màu sang ảnh xám\n",
    "\n",
    "    # Thực thi Face Detection\n",
    "    faces = faceCascade.detectMultiScale(\n",
    "        gray,\n",
    "        scaleFactor=1.1,\n",
    "        minNeighbors=5,\n",
    "        minSize=(30, 30)\n",
    "    )\n",
    "\n",
    "    print(\"Tìm thấy {0} khuôn mặt!\".format(len(faces)))\n",
    "\n",
    "    \n",
    "    # Vẽ một hình tứ giác xung quanh các khuôn mặt phát hiện được. Vẽ trên ảnh màu.\n",
    "    for (x, y, w, h) in faces:\n",
    "        cv2.rectangle(frame, (x, y), (x+w, y+h), (0, 255, 0), 2)\n",
    "\n",
    "    cv2.imshow('Face Detection', frame) # Hiển thị kết quả ra màn hình\n",
    "    if cv2.waitKey(1) & 0xFF == ord('q'): # Nhấn phím q để dừng\n",
    "        break\n",
    "cap.release()\n",
    "cv2.destroyAllWindows()"
   ]
  },
  {
   "cell_type": "code",
   "execution_count": 5,
   "metadata": {},
   "outputs": [],
   "source": [
    "cap.release()\n",
    "cv2.destroyAllWindows()"
   ]
  },
  {
   "cell_type": "code",
   "execution_count": null,
   "metadata": {},
   "outputs": [],
   "source": []
  }
 ],
 "metadata": {
  "kernelspec": {
   "display_name": "Python 3",
   "language": "python",
   "name": "python3"
  },
  "language_info": {
   "codemirror_mode": {
    "name": "ipython",
    "version": 3
   },
   "file_extension": ".py",
   "mimetype": "text/x-python",
   "name": "python",
   "nbconvert_exporter": "python",
   "pygments_lexer": "ipython3",
   "version": "3.7.3"
  }
 },
 "nbformat": 4,
 "nbformat_minor": 2
}
